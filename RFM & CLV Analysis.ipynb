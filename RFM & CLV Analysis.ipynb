{
 "cells": [
  {
   "cell_type": "markdown",
   "id": "f79fd00e",
   "metadata": {
    "slideshow": {
     "slide_type": "-"
    }
   },
   "source": [
    "##### Step one: prepare the data and churn rate"
   ]
  },
  {
   "cell_type": "code",
   "execution_count": null,
   "id": "223576c0",
   "metadata": {},
   "outputs": [],
   "source": [
    "df_obs = df.loc[(df['Purchase_dt'] >= '2010-02-01') & (df['Purchase_dt'] <= '2011-01-31')]\n",
    "cus_list=df_obs['CustomerID'].unique()\n",
    "\n",
    "df_post = df.loc[df['Purchase_dt']>'2011-01-31']\n",
    "cus_after_list = df_post['CustomerID'].unique()\n",
    "\n",
    "num_left = cus_list[np.isin(cus_list, cus_after_list, invert = True)]\n",
    "churn_rate = num_left.shape[0] / cus_list.shape[0]"
   ]
  },
  {
   "cell_type": "markdown",
   "id": "9db5d0b9",
   "metadata": {},
   "source": [
    "##### Step Two: calculate R, F , M score，and total RFM score"
   ]
  },
  {
   "cell_type": "code",
   "execution_count": null,
   "id": "be991e3a",
   "metadata": {},
   "outputs": [],
   "source": [
    "df_rfm['current'] = pd.to_datetime('2011-02-01')\n",
    "df_rfm['range']=df_rfm['current']-df_rfm['Purchase_dt']"
   ]
  },
  {
   "cell_type": "code",
   "execution_count": null,
   "id": "b7e96463",
   "metadata": {},
   "outputs": [],
   "source": [
    "df_rfm.groupby('CustomerID')['Invoice'].nunique()"
   ]
  },
  {
   "cell_type": "code",
   "execution_count": null,
   "id": "6c0ecb8e",
   "metadata": {},
   "outputs": [],
   "source": [
    "df_rfm['TotalPrice'] = df_rfm['Quantity'] * df_rfm['Price']"
   ]
  },
  {
   "cell_type": "code",
   "execution_count": null,
   "id": "43e48e12",
   "metadata": {},
   "outputs": [],
   "source": [
    "rfm = df_rfm.groupby('CustomerID').agg(recency=pd.NamedAgg(column='range', aggfunc='min'),\n",
    "                                                  frequency=pd.NamedAgg(column='Invoice', aggfunc='nunique'),\n",
    "                                                  monetary=pd.NamedAgg(column='TotalPrice', aggfunc='sum')\n",
    "                                                 )"
   ]
  },
  {
   "cell_type": "markdown",
   "id": "a7235e54",
   "metadata": {},
   "source": [
    "- rank by each RFM value and generate the score:"
   ]
  },
  {
   "cell_type": "code",
   "execution_count": null,
   "id": "1f3a2186",
   "metadata": {},
   "outputs": [],
   "source": [
    "rfm['r_percentile'] = rfm['recency'].rank(method='first',pct=True,ascending=True)\n",
    "rfm['r_score'] = pd.qcut(rfm['r_percentile'], q=4, labels=range(4,0,-1))\n",
    "\n",
    "rfm['f_percentile'] = rfm['frequency'].rank(method='first',pct=True,ascending=False)\n",
    "rfm['f_score'] = pd.qcut(rfm['f_percentile'],q=4,labels=range(4,0,-1))\n",
    "\n",
    "rfm['m_percentile'] = rfm['monetary'].rank(method='first',pct=True,ascending=False)\n",
    "rfm['m_score'] = pd.qcut(rfm['m_percentile'],4,range(4,0,-1))\n",
    "\n",
    "rfm['rfm_score'] = rfm['r_score'] + rfm['f_score'] + rfm['m_score']"
   ]
  },
  {
   "cell_type": "markdown",
   "id": "d2faaf39",
   "metadata": {},
   "source": [
    "##### Step Three：Calculate the average CLV for each RFM segment"
   ]
  },
  {
   "cell_type": "code",
   "execution_count": null,
   "id": "8a43a14c",
   "metadata": {},
   "outputs": [],
   "source": [
    "clv=rfm.groupby(['rfm_score']).agg(total_customers=pd.NamedAgg(column='CustomerID', aggfunc='nunique'),\n",
    "                                                  monetary=pd.NamedAgg(column='monetary', aggfunc='sum'))\n",
    "\n",
    "clv['clv']=(clv['monetary']/clv['total_customers'])*1/churn_rate"
   ]
  },
  {
   "cell_type": "code",
   "execution_count": null,
   "id": "2f2ec002",
   "metadata": {},
   "outputs": [],
   "source": []
  }
 ],
 "metadata": {
  "celltoolbar": "原始单元格格式",
  "kernelspec": {
   "display_name": "Python 3",
   "language": "python",
   "name": "python3"
  },
  "language_info": {
   "codemirror_mode": {
    "name": "ipython",
    "version": 3
   },
   "file_extension": ".py",
   "mimetype": "text/x-python",
   "name": "python",
   "nbconvert_exporter": "python",
   "pygments_lexer": "ipython3",
   "version": "3.8.8"
  }
 },
 "nbformat": 4,
 "nbformat_minor": 5
}
